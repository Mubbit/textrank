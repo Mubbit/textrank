{
 "cells": [
  {
   "cell_type": "code",
   "execution_count": 12,
   "metadata": {},
   "outputs": [],
   "source": [
    "import sys\n",
    "sys.path.append('/textrank/')\n",
    "from textrank.summarizer import KeywordSummarizer\n",
    "import pandas as pd \n",
    "import numpy as np \n",
    "import re\n",
    "from konlpy.tag import Kkma"
   ]
  },
  {
   "cell_type": "code",
   "execution_count": 16,
   "metadata": {},
   "outputs": [],
   "source": [
    "\n",
    "\n",
    "class PreProcess:#1개 이상의 판례를 대상으로 진행한다. \n",
    "  '''def __init__(self,patterns=re.compile('[^(가-힣 .)]')):\n",
    "    self.filter_all_pattern(title,patterns)'''\n",
    "  def filter(self,li,pattern=re.compile('[^(가-힣 .)]')):    #하나만 들어오더라도 []에 넣어주므로 동질적으로 진행 가능하다.\n",
    "    new_series=[]\n",
    "    for paragraph in li:\n",
    "        new_series.append(re.sub(pattern,' ',paragraph))\n",
    "    return new_series \n",
    "  def series_to_list(self,series):\n",
    "    return list(series.values)\n",
    "  def filter_all_pattern(self,title,series,patterns=re.compile('[^(가-힣 .)]')):\n",
    "    series=self.series_to_list(series)\n",
    "    if isinstance(patterns,list):\n",
    "        print('not implemented for multiple pattern filtering')\n",
    "    else:\n",
    "      if isinstance(series,list):\n",
    "        return pd.DataFrame({\n",
    "        title:self.filter(series)})\n",
    "      else:\n",
    "        return pd.DataFrame({\n",
    "        title:self.filter(series)},index=[0])\n",
    "\n",
    "\n",
    "class InferTextRank:\n",
    "  def __init__(self):\n",
    "    self.kkma=Kkma().nouns\n",
    "    self.keyword_extractor=KeywordSummarizer(tokenize=lambda x: self.kkma(x),window=5,verbose=False)\n",
    "\n",
    "  def textrank_word(self,paragraph,limit=10):\n",
    "    #paragraph: list of sents\n",
    "    keywords=self.keyword_extractor.summarize(paragraph,topk=limit)\n",
    "    words=[]\n",
    "    count=0\n",
    "    for word,rank in keywords:\n",
    "      if count<10:\n",
    "        words.append(word)\n",
    "      else:\n",
    "        break\n",
    "      count+=1\n",
    "    return words\n",
    "  \n",
    "      \n",
    "    "
   ]
  },
  {
   "cell_type": "code",
   "execution_count": 17,
   "metadata": {},
   "outputs": [],
   "source": [
    "case=pd.read_csv('data/case_list.csv')\n",
    "pre_process=PreProcess()\n",
    "\n",
    "prreference=pre_process.filter_all_pattern('prreference',case.loc[:,'prreference'])\n",
    "summary=pre_process.filter_all_pattern('summary',case.loc[:,'summary'])"
   ]
  },
  {
   "cell_type": "code",
   "execution_count": 45,
   "metadata": {},
   "outputs": [
    {
     "data": {
      "text/html": [
       "<div>\n",
       "<style scoped>\n",
       "    .dataframe tbody tr th:only-of-type {\n",
       "        vertical-align: middle;\n",
       "    }\n",
       "\n",
       "    .dataframe tbody tr th {\n",
       "        vertical-align: top;\n",
       "    }\n",
       "\n",
       "    .dataframe thead th {\n",
       "        text-align: right;\n",
       "    }\n",
       "</style>\n",
       "<table border=\"1\" class=\"dataframe\">\n",
       "  <thead>\n",
       "    <tr style=\"text-align: right;\">\n",
       "      <th></th>\n",
       "      <th>index</th>\n",
       "      <th>title</th>\n",
       "      <th>casenumber</th>\n",
       "      <th>casecode</th>\n",
       "      <th>holding</th>\n",
       "      <th>summary</th>\n",
       "      <th>jmreference</th>\n",
       "      <th>prreference</th>\n",
       "      <th>datanumber</th>\n",
       "      <th>prny</th>\n",
       "      <th>case_id</th>\n",
       "    </tr>\n",
       "  </thead>\n",
       "  <tbody>\n",
       "    <tr>\n",
       "      <th>0</th>\n",
       "      <td>0</td>\n",
       "      <td>허위공문서작성·허위작성공문서행사·공용서류손상·직권남용권리행사방해[대통령비서실장인 피...</td>\n",
       "      <td>2020도9714</td>\n",
       "      <td>20220819</td>\n",
       "      <td>판결</td>\n",
       "      <td>[1] 문서에 관한 죄의 보호법익과 대상 / 공무소 또는 공무원이 직무에 관하여...</td>\n",
       "      <td>[1] 문서에 관한 죄의 보호법익은 문서의 증명력과 문서에 들어 있는 의사표시의...</td>\n",
       "      <td>[1] 형법 제13조$ 제227조 / [2] 형법 제13조$ 제227조$ 제229조</td>\n",
       "      <td>[1] 대법원 1985. 6. 25. 선고 85도758 판결(공1985$ 1089...</td>\n",
       "      <td>【피 고 인】 피고인 1 외 2인 【상 고 인】 피고인 1 및 검사【변 호 인】 변...</td>\n",
       "      <td>228537</td>\n",
       "    </tr>\n",
       "    <tr>\n",
       "      <th>1</th>\n",
       "      <td>0</td>\n",
       "      <td>손해배상등청구의소</td>\n",
       "      <td>2020다263574</td>\n",
       "      <td>20220819</td>\n",
       "      <td>판결</td>\n",
       "      <td>주식회사의 정관에서 회사에 배당의무를 부과하면서 배당금의 지급조건이나 배당금액의...</td>\n",
       "      <td>주주의 이익배당청구권은 장차 이익배당을 받을 수 있다는 의미의 권리에 지나지 아...</td>\n",
       "      <td>상법 제344조의2 제1항$ 제462조$ 제464조의2$ 제449조</td>\n",
       "      <td>대법원 2010. 10. 28. 선고 2010다53792 판결</td>\n",
       "      <td>【원고$ 상고인】 주식회사 삼우씨엠건축사사무소 (소송대리인 법무법인 루츠 담당변호사...</td>\n",
       "      <td>228545</td>\n",
       "    </tr>\n",
       "    <tr>\n",
       "      <th>2</th>\n",
       "      <td>0</td>\n",
       "      <td>폭력행위등처벌에관한법률위반</td>\n",
       "      <td>2020도1153</td>\n",
       "      <td>20220819</td>\n",
       "      <td>판결</td>\n",
       "      <td>2007. 12. 21. 개정된 형사소송법 부칙 제3조의 취지 / 위 부칙조항에서 ...</td>\n",
       "      <td>구 형사소송법(2007. 12. 21. 법률 제8730호로 개정되기 전의 것$ 이하...</td>\n",
       "      <td>구 형사소송법(2007. 12. 21. 법률 제8730호로 개정되기 전의 것) 제2...</td>\n",
       "      <td>-</td>\n",
       "      <td>【피 고 인】 피고인【상 고 인】 검사【원심판결】 부산고법 2020. 1. 8. 선...</td>\n",
       "      <td>228543</td>\n",
       "    </tr>\n",
       "  </tbody>\n",
       "</table>\n",
       "</div>"
      ],
      "text/plain": [
       "   index                                              title   casenumber  \\\n",
       "0      0  허위공문서작성·허위작성공문서행사·공용서류손상·직권남용권리행사방해[대통령비서실장인 피...    2020도9714   \n",
       "1      0                                          손해배상등청구의소  2020다263574   \n",
       "2      0                                     폭력행위등처벌에관한법률위반    2020도1153   \n",
       "\n",
       "   casecode holding                                            summary  \\\n",
       "0  20220819      판결    [1] 문서에 관한 죄의 보호법익과 대상 / 공무소 또는 공무원이 직무에 관하여...   \n",
       "1  20220819      판결    주식회사의 정관에서 회사에 배당의무를 부과하면서 배당금의 지급조건이나 배당금액의...   \n",
       "2  20220819      판결  2007. 12. 21. 개정된 형사소송법 부칙 제3조의 취지 / 위 부칙조항에서 ...   \n",
       "\n",
       "                                         jmreference  \\\n",
       "0    [1] 문서에 관한 죄의 보호법익은 문서의 증명력과 문서에 들어 있는 의사표시의...   \n",
       "1    주주의 이익배당청구권은 장차 이익배당을 받을 수 있다는 의미의 권리에 지나지 아...   \n",
       "2  구 형사소송법(2007. 12. 21. 법률 제8730호로 개정되기 전의 것$ 이하...   \n",
       "\n",
       "                                         prreference  \\\n",
       "0     [1] 형법 제13조$ 제227조 / [2] 형법 제13조$ 제227조$ 제229조   \n",
       "1              상법 제344조의2 제1항$ 제462조$ 제464조의2$ 제449조   \n",
       "2  구 형사소송법(2007. 12. 21. 법률 제8730호로 개정되기 전의 것) 제2...   \n",
       "\n",
       "                                          datanumber  \\\n",
       "0   [1] 대법원 1985. 6. 25. 선고 85도758 판결(공1985$ 1089...   \n",
       "1                 대법원 2010. 10. 28. 선고 2010다53792 판결   \n",
       "2                                                  -   \n",
       "\n",
       "                                                prny  case_id  \n",
       "0  【피 고 인】 피고인 1 외 2인 【상 고 인】 피고인 1 및 검사【변 호 인】 변...   228537  \n",
       "1  【원고$ 상고인】 주식회사 삼우씨엠건축사사무소 (소송대리인 법무법인 루츠 담당변호사...   228545  \n",
       "2  【피 고 인】 피고인【상 고 인】 검사【원심판결】 부산고법 2020. 1. 8. 선...   228543  "
      ]
     },
     "execution_count": 45,
     "metadata": {},
     "output_type": "execute_result"
    }
   ],
   "source": [
    "case.head(3)"
   ]
  },
  {
   "cell_type": "code",
   "execution_count": 46,
   "metadata": {},
   "outputs": [
    {
     "name": "stdout",
     "output_type": "stream",
     "text": [
      "working?\n",
      "working?\n",
      "working?\n",
      "working?\n",
      "working?\n",
      "working?\n",
      "working?\n",
      "working?\n",
      "working?\n",
      "working?\n",
      "working?\n",
      "working?\n",
      "working?\n",
      "working?\n",
      "working?\n",
      "working?\n",
      "working?\n",
      "working?\n",
      "working?\n",
      "working?\n",
      "working?\n",
      "working?\n",
      "working?\n",
      "working?\n",
      "working?\n",
      "working?\n",
      "working?\n",
      "working?\n",
      "working?\n",
      "working?\n",
      "working?\n",
      "working?\n",
      "working?\n",
      "working?\n",
      "working?\n",
      "working?\n",
      "working?\n",
      "working?\n",
      "working?\n",
      "working?\n"
     ]
    }
   ],
   "source": [
    "def make_paragraph(li):\n",
    "  for word in \n",
    "def remove_empty(sent_list):\n",
    "  result=[]\n",
    "  for l in sent_list: \n",
    "    if l!='' and l !=' ':\n",
    "      result.append(l)\n",
    "  return result\n",
    "\n",
    "def return_list(df,keyword,limit=10):\n",
    "  tt=InferTextRank()\n",
    "  word_list=[]\n",
    "  new_paragraph_list=[]\n",
    "  i=0\n",
    "  for paragraph in df[keyword]:\n",
    "    #sent list 만들기\n",
    "    if keyword=='summary':\n",
    "      print('working?')\n",
    "      sent_list=list(map(str.strip,paragraph.split('여부')))\n",
    "    else:\n",
    "      sent_list=list(map(str.strip,paragraph.split('.')))\n",
    "    sent_list=remove_empty(sent_list)\n",
    "    \n",
    "    #랭킹 진행하기\n",
    "    if len(sent_list)>1:\n",
    "      try:\n",
    "        words=tt.textrank_word(sent_list,limit=limit)\n",
    "        \n",
    "        word_list.append(make_paragraph(words)) #한 줄 될거임\n",
    "\n",
    "        #paragraph내 words의 위치를 찾아 다 <태그> 붙여주기\n",
    "        tmp_paragraph=paragraph\n",
    "        #new_paragraph_list.append(make_paragraph(list(map(highlight,tmp_paragraph.split()))))\n",
    "        '''\n",
    "        for word in words:\n",
    "          tmp_paragraph=re.sub(word,'<highlighted>'+word+'</highlighted>',tmp_paragraph)\n",
    "        new_paragraph_list.append(tmp_paragraph)\n",
    "        '''\n",
    "      except:#문장이 한개면\n",
    "        if i>limit:\n",
    "          i+=1\n",
    "          print(len(sent_list))\n",
    "          print(sent_list)\n",
    "          break\n",
    "        word_list.append('None')  \n",
    "    else:\n",
    "      word_list.append('None')\n",
    "  return word_list,new_paragraph_list\n",
    "\n",
    "summary_tokens,summary_replaced=return_list(summary,'summary')\n",
    "prreference_tokens,prreference_replaced=return_list(prreference,'prreference')"
   ]
  },
  {
   "cell_type": "code",
   "execution_count": 47,
   "metadata": {},
   "outputs": [],
   "source": [
    "def not_none(element):\n",
    "    if element=='None':\n",
    "        return 0 \n",
    "    return 1\n",
    "def find_other_than_none(lol):\n",
    "    for lis in lol:\n",
    "        s=sum(map(not_none,lis))\n",
    "        if s>0:\n",
    "            print(lis)\n",
    "            \n",
    "        "
   ]
  },
  {
   "cell_type": "code",
   "execution_count": null,
   "metadata": {},
   "outputs": [],
   "source": [
    "find_other_than_none(summary_tokens) # 잘 나옴"
   ]
  },
  {
   "cell_type": "code",
   "execution_count": null,
   "metadata": {},
   "outputs": [],
   "source": [
    "def filter_prreference_per_word(word):\n",
    "    if word in ['조의','전','제',\n",
    "def filter_prreference_per_list(li):\n",
    "    return list(map(filter_prreference_per_word,li))\n",
    "def filter_prreference(lol):\n",
    "    return list(map(filter_prreference_per_list,lol))"
   ]
  },
  {
   "cell_type": "code",
   "execution_count": 44,
   "metadata": {},
   "outputs": [
    {
     "name": "stdout",
     "output_type": "stream",
     "text": [
      "summary\n"
     ]
    }
   ],
   "source": [
    "find_other_than_none(summary)"
   ]
  },
  {
   "cell_type": "code",
   "execution_count": 48,
   "metadata": {},
   "outputs": [
    {
     "data": {
      "text/plain": [
       "617"
      ]
     },
     "execution_count": 48,
     "metadata": {},
     "output_type": "execute_result"
    }
   ],
   "source": [
    "type(summary.values[0])#ndarray\n",
    "len(summary.values[0][0])"
   ]
  }
 ],
 "metadata": {
  "kernelspec": {
   "display_name": "Python 3.9.6 64-bit",
   "language": "python",
   "name": "python3"
  },
  "language_info": {
   "codemirror_mode": {
    "name": "ipython",
    "version": 3
   },
   "file_extension": ".py",
   "mimetype": "text/x-python",
   "name": "python",
   "nbconvert_exporter": "python",
   "pygments_lexer": "ipython3",
   "version": "3.9.6"
  },
  "orig_nbformat": 4,
  "vscode": {
   "interpreter": {
    "hash": "b485adf93bff8ca269d5493edbedeaa1a759650bfde9cbea36fd7f7b559c92d8"
   }
  }
 },
 "nbformat": 4,
 "nbformat_minor": 2
}
